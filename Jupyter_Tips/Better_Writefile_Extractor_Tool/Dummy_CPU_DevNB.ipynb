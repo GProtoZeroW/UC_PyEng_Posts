{
 "cells": [
  {
   "cell_type": "markdown",
   "id": "d77e8c36-6571-4f7c-b206-c244f327b7b7",
   "metadata": {},
   "source": [
    "# Dummy Notebook for usage with Better Jupyter Writefile Extractor Tool"
   ]
  },
  {
   "cell_type": "code",
   "execution_count": 1,
   "id": "44e031b9-8a39-435f-a047-59144abf0f96",
   "metadata": {
    "is_executing": true
   },
   "outputs": [
    {
     "name": "stdout",
     "output_type": "stream",
     "text": [
      "3.11.7 (main, Dec  8 2023, 18:56:57) [GCC 9.4.0]\n",
      "3.11.7\n"
     ]
    }
   ],
   "source": [
    "import sys\n",
    "import platform\n",
    "\n",
    "# Using sys\n",
    "print(sys.version)\n",
    "\n",
    "# Using platform\n",
    "print(platform.python_version())"
   ]
  },
  {
   "cell_type": "markdown",
   "id": "89c56f8b-38d0-4cdd-8d30-123ba6014cd1",
   "metadata": {},
   "source": [
    "## Imports"
   ]
  },
  {
   "cell_type": "code",
   "execution_count": 2,
   "id": "2765979b-9c4d-4ef1-a8f3-d0a03b674dca",
   "metadata": {},
   "outputs": [],
   "source": [
    "#%%writefile simple_cpu_test.py\n",
    "import pytest"
   ]
  },
  {
   "cell_type": "markdown",
   "id": "dfa986f2-8eeb-4ff9-a6e3-aab794ed67ef",
   "metadata": {},
   "source": [
    "# PyTest in notebook run tool"
   ]
  },
  {
   "cell_type": "code",
   "execution_count": 3,
   "id": "b333033d-53af-4dd1-af92-1f9b8ce713c0",
   "metadata": {},
   "outputs": [],
   "source": [
    "# Function to run a test\n",
    "def run_test(test_func):\n",
    "    try:\n",
    "        test_func()\n",
    "        return f\"{test_func.__name__}: Passed\"\n",
    "    except AssertionError as e:\n",
    "        return f\"{test_func.__name__}: Failed - {e}\""
   ]
  },
  {
   "cell_type": "markdown",
   "id": "d4e0e724-2b1e-4ce3-9977-45c06b198bb0",
   "metadata": {},
   "source": [
    "## Arithmetic logic unit (ALU)\n",
    "dummy ALU that only has three functions:\n",
    "* *add* two inputs\n",
    "* *subtract* two inputs\n",
    "* *bitwise_and* two inputs\n",
    "\n",
    "\n",
    "#%%writefile simple_cpu.py"
   ]
  },
  {
   "cell_type": "code",
   "execution_count": 4,
   "id": "7fee45df-4524-49f1-998e-053c0f009d92",
   "metadata": {},
   "outputs": [],
   "source": [
    "#%%writefile -a simple_cpu.py\n",
    "\n",
    "class ALU:\n",
    "    def __init__(self):\n",
    "        pass\n",
    "\n",
    "    def add(self, a, b):\n",
    "        print(f\"ALU:add: {a=}, {b=}; {a + b =}\")\n",
    "        return a + b\n",
    "\n",
    "    def subtract(self, a, b):\n",
    "        print(f\"ALU:subtract: {a=}, {b=}; {a - b =}\")\n",
    "        return a - b\n",
    "\n",
    "    def bitwise_and(self, a, b):\n",
    "        print(f\"ALU:bitwise_and: {a=}, {b=}; {a & b =}\")\n",
    "        return a & b"
   ]
  },
  {
   "cell_type": "markdown",
   "id": "2c80e1cf-1ef1-4c8e-bddd-f98a5ea47d9b",
   "metadata": {},
   "source": [
    "### Define Test"
   ]
  },
  {
   "cell_type": "code",
   "execution_count": 5,
   "id": "583af068-b61e-48c3-a1b5-fd4970801a96",
   "metadata": {},
   "outputs": [],
   "source": [
    "#%%writefile -a simple_cpu_test.py\n",
    "\n",
    "alu = ALU()\n",
    "\n",
    "def test_add():\n",
    "    assert alu.add(5, 3) == 8, \"Addition test failed\"\n",
    "\n",
    "def test_subtract():\n",
    "    assert alu.subtract(10, 4) == 6, \"Subtraction test failed\"\n",
    "\n",
    "def test_bitwise_and():\n",
    "    assert alu.bitwise_and(5, 3) == 1, \"Bitwise AND test failed\""
   ]
  },
  {
   "cell_type": "markdown",
   "id": "607f8252-544b-4c92-8231-5aa361acddd0",
   "metadata": {},
   "source": [
    "### Run Test"
   ]
  },
  {
   "cell_type": "code",
   "execution_count": 6,
   "id": "cb5cec77-2f0c-4087-b21d-f8cca1ab3dbf",
   "metadata": {},
   "outputs": [
    {
     "name": "stdout",
     "output_type": "stream",
     "text": [
      "ALU:add: a=5, b=3; a + b =8\n",
      "ALU:subtract: a=10, b=4; a - b =6\n",
      "ALU:bitwise_and: a=5, b=3; a & b =1\n",
      "\n",
      "test_add: Passed\n",
      "test_subtract: Passed\n",
      "test_bitwise_and: Passed\n"
     ]
    }
   ],
   "source": [
    "ALU_test_results=[run_test(test) for test in [test_add, test_subtract, test_bitwise_and]]\n",
    "print()\n",
    "for result in ALU_test_results:\n",
    "    \n",
    "    print(result)\n"
   ]
  },
  {
   "cell_type": "markdown",
   "id": "0b2bac38-0fb8-42df-ab8f-d3620ac47369",
   "metadata": {},
   "source": [
    "# Control Unit (CU)\n",
    "Dummy control unit that works with our dummy ALU above that has the following functions:\n",
    "* *load* a value to a given address\n",
    "* *store* return a value at a given address\n",
    "* *execute* performs a ALU function based on the input command with two inputs; if the given command is not in the above ALU will return `\"Unknown command\"`\n",
    "\n",
    "\n",
    "#%%writefile -a simple_cpu.py"
   ]
  },
  {
   "cell_type": "code",
   "execution_count": 7,
   "id": "378f862c-9db6-41e1-afac-3bc33d99ced8",
   "metadata": {},
   "outputs": [],
   "source": [
    "#%%writefile -a simple_cpu.py\n",
    "\n",
    "class ControlUnit:\n",
    "    def __init__(self, alu):\n",
    "        self.alu = alu\n",
    "        self.memory = {}  # Simulating memory with a dictionary\n",
    "\n",
    "    def load(self, address, value):\n",
    "        \"\"\"Load a value into a specified memory address.\"\"\"\n",
    "        print(f\"CU:load: {address=}, {value=}\")\n",
    "        self.memory[address] = value\n",
    "\n",
    "    def store(self, address):\n",
    "        \"\"\"Store and return the value from a specified memory address.\"\"\"\n",
    "        print(f\"CU:store: {address=}\")\n",
    "        return self.memory.get(address, None)\n",
    "\n",
    "    def execute(self, command, a, b):\n",
    "        \"\"\"Execute an ALU operation.\"\"\"\n",
    "        print(f\"CU:execute: {command=}, {a=}, {b=} \")\n",
    "\n",
    "        match command:\n",
    "            case 'ADD':\n",
    "                return self.alu.add(a, b)\n",
    "            case 'SUBTRACT':\n",
    "                return self.alu.subtract(a, b)\n",
    "            case 'AND':\n",
    "                return self.alu.bitwise_and(a, b)\n",
    "            case _:\n",
    "                print('CU:execute: received an  Unknown command')\n",
    "                return \"Unknown command\""
   ]
  },
  {
   "cell_type": "markdown",
   "id": "a9421bfe-e7aa-4003-8c76-c6b257c7a8e0",
   "metadata": {},
   "source": [
    "## Define Test"
   ]
  },
  {
   "cell_type": "code",
   "execution_count": 8,
   "id": "c9d8831f-481e-448a-9f07-1fd752a3cc37",
   "metadata": {},
   "outputs": [],
   "source": [
    "#%%writefile -a simple_cpu_test.py\n",
    "\n",
    "def test_load_store():\n",
    "    cu = ControlUnit(ALU())\n",
    "    cu.load(\"address1\", 10)\n",
    "    assert cu.store(\"address1\") == 10, \"LOAD/STORE test failed\"\n",
    "\n",
    "def test_execute_add():\n",
    "    cu = ControlUnit(ALU())\n",
    "    assert cu.execute(\"ADD\", 5, 3) == 8, \"Execute ADD test failed\"\n",
    "\n",
    "def test_execute_subtract():\n",
    "    cu = ControlUnit(ALU())\n",
    "    assert cu.execute(\"SUBTRACT\", 10, 4) == 6, \"Execute SUBTRACT test failed\"\n",
    "\n",
    "def test_execute_and():\n",
    "    cu = ControlUnit(ALU())\n",
    "    assert cu.execute(\"AND\", 5, 3) == 1, \"Execute AND test failed\""
   ]
  },
  {
   "cell_type": "markdown",
   "id": "fbbd307f-cdcd-40b9-b8e5-28d0f8a35a5b",
   "metadata": {},
   "source": [
    "## Run Test"
   ]
  },
  {
   "cell_type": "code",
   "execution_count": 9,
   "id": "731f81b0-dc9e-4157-a442-5304bd8d3c3b",
   "metadata": {},
   "outputs": [
    {
     "name": "stdout",
     "output_type": "stream",
     "text": [
      "CU:load: address='address1', value=10\n",
      "CU:store: address='address1'\n",
      "CU:execute: command='ADD', a=5, b=3 \n",
      "ALU:add: a=5, b=3; a + b =8\n",
      "CU:execute: command='SUBTRACT', a=10, b=4 \n",
      "ALU:subtract: a=10, b=4; a - b =6\n",
      "CU:execute: command='AND', a=5, b=3 \n",
      "ALU:bitwise_and: a=5, b=3; a & b =1\n",
      "\n",
      "test_load_store: Passed\n",
      "test_execute_add: Passed\n",
      "test_execute_subtract: Passed\n",
      "test_execute_and: Passed\n"
     ]
    }
   ],
   "source": [
    "CU_test_results=[run_test(test) for test in [test_load_store, test_execute_add, test_execute_subtract, test_execute_and]]\n",
    "print()\n",
    "for result in CU_test_results:\n",
    "    \n",
    "    print(result)\n"
   ]
  },
  {
   "cell_type": "markdown",
   "id": "e8b8a88f-d9ee-4b35-873f-53075956d7a7",
   "metadata": {},
   "source": [
    "# Random Access Memory (RAM)\n",
    "Dummy RAM that has the following functions:\n",
    "* *write* will write a value to a given address\n",
    "* *read* will retrieve a value at a given address\n",
    "\n",
    "\n",
    "#%%writefile -a simple_cpu.py"
   ]
  },
  {
   "cell_type": "code",
   "execution_count": 10,
   "id": "628bacff-5f90-4381-91ec-d851188d38c5",
   "metadata": {},
   "outputs": [],
   "source": [
    "#%%writefile -a simple_cpu.py\n",
    "\n",
    "class RAM:\n",
    "    def __init__(self):\n",
    "        self.storage = {}\n",
    "\n",
    "    def write(self, address, data):\n",
    "        \"\"\"Write data to a specific address in RAM.\"\"\"\n",
    "        print(f\"RAM:write: {address=}, {data=}\")\n",
    "        self.storage[address] = data\n",
    "\n",
    "    def read(self, address):\n",
    "        \"\"\"Read data from a specific address in RAM. Returns None if the address is empty.\"\"\"\n",
    "        print(f\"RAM:read: {address=}\")\n",
    "        return self.storage.get(address, None)"
   ]
  },
  {
   "cell_type": "markdown",
   "id": "c387bcb3-47f5-416b-a227-1a477195641d",
   "metadata": {},
   "source": [
    "## Define Test"
   ]
  },
  {
   "cell_type": "code",
   "execution_count": 11,
   "id": "58d11a22-4e98-4dd1-9d9b-ea0df760566a",
   "metadata": {},
   "outputs": [],
   "source": [
    "#%%writefile -a simple_cpu_test.py\n",
    "\n",
    "def test_ram_write_and_read():\n",
    "    ram = RAM()\n",
    "    ram.write(\"address1\", \"data1\")\n",
    "    assert ram.read(\"address1\") == \"data1\", \"Failed to read the written data correctly\"\n",
    "\n",
    "def test_ram_read_empty_address():\n",
    "    ram = RAM()\n",
    "    assert ram.read(\"address2\") is None, \"Reading from an empty address should return None\""
   ]
  },
  {
   "cell_type": "markdown",
   "id": "81930df7-c489-4de1-9bca-11e9a89afdd4",
   "metadata": {},
   "source": [
    "## Run Test"
   ]
  },
  {
   "cell_type": "code",
   "execution_count": 12,
   "id": "04f42217-b3d1-4fb5-959f-cb7990f1c40c",
   "metadata": {},
   "outputs": [
    {
     "name": "stdout",
     "output_type": "stream",
     "text": [
      "RAM:write: address='address1', data='data1'\n",
      "RAM:read: address='address1'\n",
      "RAM:read: address='address2'\n",
      "\n",
      "test_ram_write_and_read: Passed\n",
      "test_ram_read_empty_address: Passed\n"
     ]
    }
   ],
   "source": [
    "RAM_test_results=[run_test(test) for test in [test_ram_write_and_read, test_ram_read_empty_address]]\n",
    "print()\n",
    "for result in RAM_test_results:\n",
    "    \n",
    "    print(result)\n"
   ]
  },
  {
   "cell_type": "markdown",
   "id": "7435e09c-ec02-4c67-b001-90dd96c94bbc",
   "metadata": {},
   "source": [
    "# Read-Only Memory (ROM)\n",
    "Dummy ROM that has the following functions:\n",
    "* *read* will retrieve a value at a given address\n",
    "\n",
    "#%%writefile -a simple_cpu.py"
   ]
  },
  {
   "cell_type": "code",
   "execution_count": 13,
   "id": "4ec3c0fa-08a1-41e1-9627-7ffe4f8db189",
   "metadata": {},
   "outputs": [],
   "source": [
    "#%%writefile -a simple_cpu.py\n",
    "\n",
    "class ROM:\n",
    "    def __init__(self, preloaded_data):\n",
    "        \"\"\"\n",
    "        Initialize the ROM with preloaded data.\n",
    "        preloaded_data should be a dictionary mapping addresses to their contents.\n",
    "        \"\"\"\n",
    "        self.storage = preloaded_data\n",
    "\n",
    "    def read(self, address):\n",
    "        \"\"\"Read data from a specific address in ROM. Returns None if the address does not exist.\"\"\"\n",
    "        print(f\"ROM:read: {address=}\")\n",
    "        return self.storage.get(address, None)"
   ]
  },
  {
   "cell_type": "markdown",
   "id": "41681806-b351-4fb5-aae7-c64e8a5bbdbe",
   "metadata": {},
   "source": [
    "## Define Test"
   ]
  },
  {
   "cell_type": "code",
   "execution_count": 14,
   "id": "a5a33fb5-575f-4177-a8a2-c77597a56054",
   "metadata": {},
   "outputs": [],
   "source": [
    "#%%writefile -a simple_cpu_test.py\n",
    "\n",
    "def test_rom_read_preloaded_data():\n",
    "    preloaded_data = {\"address1\": \"data1\", \"address2\": \"data2\"}\n",
    "    rom = ROM(preloaded_data)\n",
    "    assert rom.read(\"address1\") == \"data1\", \"Failed to read preloaded data correctly\"\n",
    "\n",
    "def test_rom_read_nonexistent_address():\n",
    "    preloaded_data = {\"address1\": \"data1\"}\n",
    "    rom = ROM(preloaded_data)\n",
    "    assert rom.read(\"address3\") is None, \"Reading from a nonexistent address should return None\""
   ]
  },
  {
   "cell_type": "markdown",
   "id": "4ad36c43-6234-41e8-8983-50390f6904b3",
   "metadata": {},
   "source": [
    "## Run Test"
   ]
  },
  {
   "cell_type": "code",
   "execution_count": 15,
   "id": "fe63ed1c-cc65-471f-8357-3b578fa8e4eb",
   "metadata": {},
   "outputs": [
    {
     "name": "stdout",
     "output_type": "stream",
     "text": [
      "ROM:read: address='address1'\n",
      "ROM:read: address='address3'\n",
      "\n",
      "test_rom_read_preloaded_data: Passed\n",
      "test_rom_read_nonexistent_address: Passed\n"
     ]
    }
   ],
   "source": [
    "ROM_test_results=[run_test(test) for test in [test_rom_read_preloaded_data, test_rom_read_nonexistent_address]]\n",
    "print()\n",
    "for result in ROM_test_results:\n",
    "    \n",
    "    print(result)"
   ]
  },
  {
   "cell_type": "markdown",
   "id": "d0350aba-ee92-404a-a6be-d63f095a734e",
   "metadata": {},
   "source": [
    "# Dummy write of a Raw cell"
   ]
  },
  {
   "cell_type": "raw",
   "id": "82bbe5c5-008d-499f-8682-663bbb5337d2",
   "metadata": {},
   "source": [
    "#%%writefile __init__.py\n",
    "#I do nothing"
   ]
  },
  {
   "cell_type": "code",
   "execution_count": null,
   "id": "afbf8a35-4160-4216-9c8f-45bb1e9a5f37",
   "metadata": {},
   "outputs": [],
   "source": []
  }
 ],
 "metadata": {
  "kernelspec": {
   "display_name": "Python 3 (ipykernel)",
   "language": "python",
   "name": "python3"
  },
  "language_info": {
   "codemirror_mode": {
    "name": "ipython",
    "version": 3
   },
   "file_extension": ".py",
   "mimetype": "text/x-python",
   "name": "python",
   "nbconvert_exporter": "python",
   "pygments_lexer": "ipython3",
   "version": "3.11.7"
  }
 },
 "nbformat": 4,
 "nbformat_minor": 5
}
