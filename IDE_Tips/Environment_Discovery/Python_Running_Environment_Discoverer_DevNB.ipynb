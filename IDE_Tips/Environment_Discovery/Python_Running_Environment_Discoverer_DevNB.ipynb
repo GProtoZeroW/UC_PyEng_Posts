{
 "cells": [
  {
   "cell_type": "markdown",
   "id": "6e514b33-ec06-47c5-8ff3-b71fb85289d1",
   "metadata": {},
   "source": [
    "# Title: Python Running Environment Discoverer \n",
    "## Author: Steven K Armour \n",
    "(github: https://github.com/GProtoZeroW); twitter:https://twitter.com/ArmourMSG; Mastadon: https://mastodon.online/@ArmourMSG"
   ]
  },
  {
   "cell_type": "markdown",
   "id": "b2d58f09-fcd4-46b9-b2ac-d71f3086f1ae",
   "metadata": {},
   "source": [
    "# Motivation"
   ]
  },
  {
   "cell_type": "markdown",
   "id": "f128b398-8652-4078-a232-32d926719a96",
   "metadata": {},
   "source": [
    "So between Python versions, virtual environments, virtual machines \\[Window's Windows Subsystem for Linux (WSL) is a virtual machine built upon Windows Hyper-V (https://learn.microsoft.com/en-us/windows/wsl/faq \\], and dockers the question comes where in the hell is my code running? Now, if you have set up everything yourself, answering where your code is running should be straightforward. But as soon as IDEs start doing some level of automated environment setup, not to mention docker, this can quickly become unknown. So then let's instead have Python tell us itself, and that is what the following script tries to do. (note: as of 20230218, I have not tested the docker part)"
   ]
  },
  {
   "cell_type": "markdown",
   "id": "89a44556-702f-4ed9-985f-7be044eba79e",
   "metadata": {},
   "source": [
    "# Imports"
   ]
  },
  {
   "cell_type": "code",
   "execution_count": 1,
   "id": "b64ec19f-6b47-469d-8aee-2f56cd7641ac",
   "metadata": {},
   "outputs": [],
   "source": [
    "#%%writefile py_running_environment_discoverer.py\n",
    "\n",
    "import os\n",
    "import platform\n",
    "import sys\n",
    "from pathlib import Path"
   ]
  },
  {
   "cell_type": "code",
   "execution_count": 2,
   "id": "61ac0d01-176a-4efb-a8b8-ef34a4a460b2",
   "metadata": {},
   "outputs": [],
   "source": [
    "#%%writefile -a py_running_environment_discoverer.py\n",
    "\n",
    "########################\n",
    "# Environment Inspection\n",
    "########################\n",
    "\n",
    "#getters\n",
    "# Useful when working with PyCharm, Windows, WSL, and Conda\n",
    "\n",
    "def get_os():\n",
    "    system = platform.system()\n",
    "    if system == 'Linux':\n",
    "        with open('/proc/version', 'r') as f:\n",
    "            if 'microsoft' in f.read().lower():\n",
    "                return 'Windows Subsystem for Linux (WSL)'\n",
    "        return 'Linux'\n",
    "    elif system == 'Darwin':\n",
    "        return 'macOS'\n",
    "    elif system == 'Windows':\n",
    "        return 'Windows'\n",
    "    else:\n",
    "        return 'Unknown OS'\n",
    "\n",
    "def in_virtual_env():\n",
    "    return hasattr(sys, 'real_prefix') or (hasattr(sys, 'base_prefix') and sys.base_prefix != sys.prefix)\n",
    "\n",
    "def get_virtual_env_info():\n",
    "    if in_virtual_env():\n",
    "        venv_path = sys.prefix\n",
    "        return {\n",
    "            \"is_virtual_env\": True,\n",
    "            \"path\": venv_path,\n",
    "            \"name\": os.path.basename(venv_path),\n",
    "            \"is_conda\": os.path.exists(os.path.join(venv_path, 'conda-meta'))\n",
    "        }\n",
    "    return {\"is_virtual_env\": False}\n",
    "\n",
    "def in_docker():\n",
    "    path = '/proc/self/cgroup'\n",
    "    return os.path.exists('/.dockerenv') or os.path.isfile(path) and any('docker' in line for line in open(path))\n",
    "\n",
    "def get_docker_container_id():\n",
    "    if in_docker():\n",
    "        with open('/proc/self/cgroup', 'r') as f:\n",
    "            for line in f:\n",
    "                if 'docker' in line:\n",
    "                    return line.split('/')[-1].strip()\n",
    "    return None\n",
    "\n",
    "def get_current_path():\n",
    "    return os.getcwd()\n",
    "\n"
   ]
  },
  {
   "cell_type": "raw",
   "id": "ae1f23ea-3901-420a-b80d-47fb09f51149",
   "metadata": {},
   "source": [
    "#%%writefile -a py_running_environment_discoverer.py\n",
    "\n",
    "#print outs\n",
    "# Print system information\n",
    "print(f\"Operating System: {get_os()}\")\n",
    "print(f\"Current Path: {get_current_path()}\")\n",
    "\n",
    "# Print Python version\n",
    "print(f\"Python Version: {sys.version}\")\n",
    "\n",
    "venv_info = get_virtual_env_info()\n",
    "print(f\"Running in Virtual Environment: {'Yes' if venv_info['is_virtual_env'] else 'No'}\")\n",
    "if venv_info['is_virtual_env']:\n",
    "    print(f\"Virtual Environment Path: {venv_info['path']}\")\n",
    "    print(f\"Virtual Environment Name: {venv_info['name']}\")\n",
    "    print(f\"Virtual Environment Type: {'Conda' if venv_info['is_conda'] else 'Python'}\")\n",
    "    # Instructions for activating the virtual environment\n",
    "    activation_cmd = \"source\" if os.name != \"nt\" else \"\"\n",
    "    print(f\"To activate this environment, run: `{activation_cmd} {os.path.join(venv_info['path'], 'bin', 'activate')}`\" if not venv_info['is_conda'] else f\"To activate this Conda environment, run: `conda activate {venv_info['name']}`\")\n",
    "\n",
    "docker_id = get_docker_container_id()\n",
    "print(f\"Running in Docker: {'Yes' if docker_id else 'No'}\")\n",
    "if docker_id:\n",
    "    print(f\"Docker Container ID: {docker_id}\")"
   ]
  },
  {
   "cell_type": "markdown",
   "id": "da7d9aea-45b8-4303-ab1d-19f43b3f7a3c",
   "metadata": {},
   "source": [
    "# Running the above"
   ]
  },
  {
   "cell_type": "markdown",
   "id": "8f8766b2-5793-45aa-bdba-0fa2fe7fa6d7",
   "metadata": {},
   "source": [
    "If I ran the above cells (with all of them set to be code cells) for me in this notebook with the PyCharm setup I have for the Blogs project yields: (Where I have omitted parts of the output for privacy)"
   ]
  },
  {
   "cell_type": "markdown",
   "id": "9432a14a-aff3-44dc-9c62-b6c30298cfea",
   "metadata": {},
   "source": [
    "```\n",
    "Operating System: Windows Subsystem for Linux (WSL)\n",
    "Current Path: ~~/UC_PyEng_Posts/IDE_Tips/Environment_Discovery\n",
    "Python Version: 3.11.7 (main, Dec  8 2023, 18:56:57) [GCC 9.4.0]\n",
    "Running in Virtual Environment: Yes\n",
    "Virtual Environment Path: ~~/.virtualenvs/UC_PyEng_Posts\n",
    "Virtual Environment Name: UC_PyEng_Posts\n",
    "Virtual Environment Type: Python\n",
    "To activate this environment, run: `source ~~/.virtualenvs/UC_PyEng_Posts/bin/activate`\n",
    "Running in Docker: No\n",
    "```"
   ]
  },
  {
   "cell_type": "markdown",
   "id": "2f8e62da-8192-428d-b1a7-b7924d6fed70",
   "metadata": {},
   "source": [
    "# Exstracting the code from this Development Notebook to a Python File"
   ]
  },
  {
   "cell_type": "markdown",
   "id": "43a7a0ab-4903-42f5-878c-7264c18a3f88",
   "metadata": {},
   "source": [
    "So then to get the above code out into a script, we will use an earlier post about extracting code from notebooks by parsing cells for `#%%writefile` (Better_Jupyter_Writefile_Extractor_Tool_DevNB)[https://github.com/GProtoZeroW/UC_PyEng_Posts/blob/main/Jupyter_Tips/Better_Writefile_Extractor_Tool/Better_Jupyter_Writefile_Extractor_Tool_DevNB.ipynb]"
   ]
  },
  {
   "cell_type": "code",
   "execution_count": 3,
   "id": "375a5bbc-1419-4a57-a042-a3dfe56bc97b",
   "metadata": {},
   "outputs": [],
   "source": [
    "import sys\n",
    "\n",
    "# Get the current working directory (cwd) of the notebook\n",
    "cwd = Path.cwd()\n",
    "\n",
    "# Construct the path to the script directory\n",
    "script_dir = cwd.parents[1] / 'Jupyter_Tips/Better_Writefile_Extractor_Tool'\n",
    "\n",
    "# Append the script directory to sys.path\n",
    "sys.path.append(str(script_dir))\n",
    "\n",
    "from jupyter_writefile_extractor import Notebook_Writefile_Extractor\n"
   ]
  },
  {
   "cell_type": "code",
   "execution_count": 4,
   "id": "22860a7b-f2d3-40e7-9a59-1290f4fa6f37",
   "metadata": {},
   "outputs": [],
   "source": [
    "exstract_myself=Notebook_Writefile_Extractor(Path.cwd()/'Python_Running_Environment_Discoverer_DevNB.ipynb')\n",
    "exstract_myself.write_to_files()"
   ]
  }
 ],
 "metadata": {
  "kernelspec": {
   "display_name": "Python 3 (ipykernel)",
   "language": "python",
   "name": "python3"
  },
  "language_info": {
   "codemirror_mode": {
    "name": "ipython",
    "version": 3
   },
   "file_extension": ".py",
   "mimetype": "text/x-python",
   "name": "python",
   "nbconvert_exporter": "python",
   "pygments_lexer": "ipython3",
   "version": "3.11.7"
  }
 },
 "nbformat": 4,
 "nbformat_minor": 5
}
